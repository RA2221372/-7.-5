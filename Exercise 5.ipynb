{
 "cells": [
  {
   "cell_type": "markdown",
   "metadata": {
    "id": "mjgiMdY6O30T"
   },
   "source": [
    "<div dir=\"rtl\">\n",
    "    <font size=\"4\">\n",
    "        <h1><strong>پروژه تحلیل شخصیت مشتریان با استفاده از خوشه‌بندی</strong></h1>\n",
    "        <h2><strong>مقدمه</strong></h2>\n",
    "            در این پروژه، از تکنیک‌های خوشه‌بندی (Clustering) برای <strong>تحلیل و دسته‌بندی مشتریان</strong> بر اساس ویژگی‌های شخصیتی و رفتاری آن‌ها استفاده می‌شود. هدف این پروژه، شناسایی الگوهای مختلف در رفتار مشتریان و تقسیم‌بندی آن‌ها به گروه‌های متمایز است تا شرکت‌ها بتوانند استراتژی‌های بازاریابی هدفمندتری طراحی کنند.\n",
    "        <h2><strong>توضیح دیتاست</strong></h2>\n",
    "            مجموعه داده شامل اطلاعات ۲۲۴۰ مشتری است که ویژگی‌هایی مانند سن، درآمد، سطح تحصیلات، وضعیت تأهل، تعداد فرزندان و رفتار خرید را در بر می‌گیرد. این داده‌ها برای تحلیل شخصیت و تقسیم‌بندی مشتریان به کار می‌روند.\n",
    "            <br>\n",
    "            <h2><strong>وظیفه شما در این تمرین:</strong></h2>\n",
    "            <li>✅ <strong>پیش‌پردازش داده‌ها:</strong> شامل بررسی مقادیر گمشده، تبدیل داده‌های دسته‌ای به عددی با <code>LabelEncoder</code> و استانداردسازی داده‌ها با <code>StandardScaler</code>.</li>\n",
    "            <li>✅ <strong>خوشه‌بندی:</strong> استفاده از الگوریتم‌های خوشه‌بندی مانند <strong>KMeans، DBSCAN، Hierarchical Clustering</strong> برای شناسایی گروه‌های مشتریان.</li>\n",
    "            <li>✅ <strong>تحلیل و لیبل‌گذاری خوشه‌ها:</strong> بررسی ویژگی‌های هر خوشه و اختصاص لیبل‌های معنادار مانند \"مشتریان لوکس\"، \"مشتریان خانوادگی\" یا \"مشتریان اقتصادی\".</li>\n",
    "            <li>✅ <strong>تجسم نتایج:</strong> استفاده از <strong>PCA</strong> برای کاهش ابعاد و رسم نمودارهای پراکندگی با <code>matplotlib</code> یا <code>seaborn</code>.</li>\n",
    "            <li>✅ <strong>ارزیابی خوشه‌بندی:</strong> استفاده از معیارهایی مانند <strong>Silhouette Score</strong> برای بررسی کیفیت خوشه‌ها.</li>\n",
    "            <br>\n",
    "            <<h2><strong>متغیر هدف (Target Variable)</strong></h2>\n",
    "            این پروژه یک مسئله بدون نظارت (Unsupervised) است و متغیر هدف مشخصی وجود ندارد. هدف، انجام خوشه‌بندی برای شناسایی و خلاصه‌سازی <strong>بخش‌های مختلف مشتریان</strong> است. همچنین هدف اصلی ما خوشه‌بندی مشتریان بر اساس رفتار مخارج و درآمدهای آن‌هاست تا بتوانیم گروه‌های مختلف مشتریان را شناسایی و تحلیل کنیم.\n",
    "        <h2><strong>نحوه ارسال تمرین</strong></h2>\n",
    "            <li>📌 فایل‌های پروژه را در یک <strong>مخزن GitHub</strong> قرار دهید.</li>\n",
    "            <li>📌 لینک مخزن را ارسال کنید.</li>\n",
    "            🔴 <strong>اطمینان حاصل کنید که مخزن شما عمومی است تا امکان بررسی وجود داشته باشد.</strong>\n",
    "        </font>\n",
    "</div>"
   ]
  },
  {
   "cell_type": "markdown",
   "metadata": {
    "id": "SpJij_LFy5g_"
   },
   "source": [
    "<div dir=\"rtl\">\n",
    "    <h2>راهنمای تمرین:<h2>\n",
    "    <p>\n",
    "        <font size=4>\n",
    "        این تمرین به گونه‌ای طراحی شده که شما باید کدهای خود را در قالب خاصی که از قبل مشخص شده، بنویسید. به این معنی که ممکن است بخشی از کد برای شما آماده باشد و شما باید فقط ادامه کد را بنویسید بدون اینکه آن قسمت از کد را تغییر دهید. این نوع تمرین برای کمک به شما طراحی شده تا در مراحل بعدی با چالش‌های پیچیده‌تری روبرو شوید که نیاز به مهارت‌های بیشتری دارند.\n",
    "        <br>\n",
    "        در این تمرین، در هر مرحله شما باید برداشت‌ها و تحلیل‌های خود را بنویسید. مثلاً اگر در کد شما نمودار یا جدولی از داده‌ها یا نتایج مدل‌ها به نمایش در می‌آید، شما باید توضیح دهید که آن‌ها چه معنی و کاربردی دارند. این تحلیل‌ها می‌تواند شامل بررسی تغییرات در داده‌ها، ارزیابی مدل‌ها، یا نتایج بهینه‌سازی‌ها باشد.\n",
    "        <br>\n",
    "        برای هر بخش، حداقل پنج نکته یا برداشت از نتایج یا داده‌ها باید بنویسید.\n",
    "        <br>\n",
    "            <li>\n",
    "            در قسمت ارزیابی , باید یافته ها و نکاتی که از تحلیل داده متوجه شده و دریافت کرده اید در قالب یک خلاصه گزارش , بنویسید.\n",
    "            </li>\n",
    "            <li>\n",
    "            برای هر نمودار یا جدول، تحلیل کنید که چه روندی را نشان می‌دهند یا آیا نکته خاصی برای بهبود مدل یا داده‌ها از آن‌ها قابل استخراج است.\n",
    "            </li>\n",
    "            <br>\n",
    "        مهم است که توجه داشته باشید شما باید فقط کدهای خود را اضافه کنید و قسمت‌هایی که از پیش نوشته شده‌اند، نباید تغییر کنند. هدف این است که شما بتوانید با استفاده از قالب و راهنمایی‌های داده شده، تمرین را به درستی تکمیل کنید. <font color='green'>در صورتی که اصلا نتوانستید متد های خواسته شده را پیاده سازی کنید , سعی کنید به روش خودتان به خروجی مورد نظر برسید.</font>\n",
    "        </font>\n",
    "    </p>\n",
    "</div>\n",
    "<br>\n",
    "<br>"
   ]
  },
  {
   "cell_type": "markdown",
   "metadata": {
    "id": "EcxBZ_donLNc"
   },
   "source": [
    "<div dir=\"rtl\">\n",
    "    <h2>توضیح متغیرهای دیتاست</h2>\n",
    "    <table border=\"1\" cellpadding=\"8\" cellspacing=\"0\">\n",
    "        <tr>\n",
    "            <th>ستون</th>\n",
    "            <th>توضیح کوتاه</th>\n",
    "            <th>نوع داده</th>\n",
    "        </tr>\n",
    "        <!-- بخش People -->\n",
    "        <tr>\n",
    "            <td><b>ID</b></td>\n",
    "            <td>شناسه یکتا برای هر مشتری</td>\n",
    "            <td>object</td>\n",
    "        </tr>\n",
    "        <tr>\n",
    "            <td><b>Year_Birth</b></td>\n",
    "            <td>سال تولد مشتری</td>\n",
    "            <td>int64</td>\n",
    "        </tr>\n",
    "        <tr>\n",
    "            <td><b>Education</b></td>\n",
    "            <td>سطح تحصیلات مشتری</td>\n",
    "            <td>object</td>\n",
    "        </tr>\n",
    "        <tr>\n",
    "            <td><b>Marital_Status</b></td>\n",
    "            <td>وضعیت تأهل مشتری</td>\n",
    "            <td>object</td>\n",
    "        </tr>\n",
    "        <tr>\n",
    "            <td><b>Income</b></td>\n",
    "            <td>درآمد سالانه خانوار مشتری</td>\n",
    "            <td>float64</td>\n",
    "        </tr>\n",
    "        <tr>\n",
    "            <td><b>Kidhome</b></td>\n",
    "            <td>تعداد فرزندان کوچک در خانوار مشتری</td>\n",
    "            <td>int64</td>\n",
    "        </tr>\n",
    "        <tr>\n",
    "            <td><b>Teenhome</b></td>\n",
    "            <td>تعداد نوجوانان در خانوار مشتری</td>\n",
    "            <td>int64</td>\n",
    "        </tr>\n",
    "        <tr>\n",
    "            <td><b>Dt_Customer</b></td>\n",
    "            <td>تاریخ ثبت‌نام مشتری در شرکت</td>\n",
    "            <td>object</td>\n",
    "        </tr>\n",
    "        <tr>\n",
    "            <td><b>Recency</b></td>\n",
    "            <td>تعداد روزهای گذشته از آخرین خرید مشتری</td>\n",
    "            <td>int64</td>\n",
    "        </tr>\n",
    "        <tr>\n",
    "            <td><b>Complain</b></td>\n",
    "            <td>آیا مشتری در ۲ سال گذشته شکایت کرده است؟ (۱ برای بله، ۰ برای خیر)</td>\n",
    "            <td>int64</td>\n",
    "        </tr>\n",
    "        <!-- بخش Products -->\n",
    "        <tr>\n",
    "            <td><b>MntWines</b></td>\n",
    "            <td>مقدار هزینه‌شده برای نوشیدنی در ۲ سال گذشته</td>\n",
    "            <td>float64</td>\n",
    "        </tr>\n",
    "        <tr>\n",
    "            <td><b>MntFruits</b></td>\n",
    "            <td>مقدار هزینه‌شده برای میوه در ۲ سال گذشته</td>\n",
    "            <td>float64</td>\n",
    "        </tr>\n",
    "        <tr>\n",
    "            <td><b>MntMeatProducts</b></td>\n",
    "            <td>مقدار هزینه‌شده برای محصولات گوشتی در ۲ سال گذشته</td>\n",
    "            <td>float64</td>\n",
    "        </tr>\n",
    "        <tr>\n",
    "            <td><b>MntFishProducts</b></td>\n",
    "            <td>مقدار هزینه‌شده برای محصولات دریایی در ۲ سال گذشته</td>\n",
    "            <td>float64</td>\n",
    "        </tr>\n",
    "        <tr>\n",
    "            <td><b>MntSweetProducts</b></td>\n",
    "            <td>مقدار هزینه‌شده برای شیرینی‌جات در ۲ سال گذشته</td>\n",
    "            <td>float64</td>\n",
    "        </tr>\n",
    "        <tr>\n",
    "            <td><b>MntGoldProds</b></td>\n",
    "            <td>مقدار هزینه‌شده برای محصولات طلا در ۲ سال گذشته</td>\n",
    "            <td>float64</td>\n",
    "        </tr>\n",
    "        <!-- بخش Promotion -->\n",
    "        <tr>\n",
    "            <td><b>NumDealsPurchases</b></td>\n",
    "            <td>تعداد خریدهای انجام‌شده با تخفیف</td>\n",
    "            <td>int64</td>\n",
    "        </tr>\n",
    "        <tr>\n",
    "            <td><b>AcceptedCmp1</b></td>\n",
    "            <td>آیا مشتری پیشنهاد کمپین اول را پذیرفته است؟ (۱ برای بله، ۰ برای خیر)</td>\n",
    "            <td>int64</td>\n",
    "        </tr>\n",
    "        <tr>\n",
    "            <td><b>AcceptedCmp2</b></td>\n",
    "            <td>آیا مشتری پیشنهاد کمپین دوم را پذیرفته است؟ (۱ برای بله، ۰ برای خیر)</td>\n",
    "            <td>int64</td>\n",
    "        </tr>\n",
    "        <tr>\n",
    "            <td><b>AcceptedCmp3</b></td>\n",
    "            <td>آیا مشتری پیشنهاد کمپین سوم را پذیرفته است؟ (۱ برای بله، ۰ برای خیر)</td>\n",
    "            <td>int64</td>\n",
    "        </tr>\n",
    "        <tr>\n",
    "            <td><b>AcceptedCmp4</b></td>\n",
    "            <td>آیا مشتری پیشنهاد کمپین چهارم را پذیرفته است؟ (۱ برای بله، ۰ برای خیر)</td>\n",
    "            <td>int64</td>\n",
    "        </tr>\n",
    "        <tr>\n",
    "            <td><b>AcceptedCmp5</b></td>\n",
    "            <td>آیا مشتری پیشنهاد کمپین پنجم را پذیرفته است؟ (۱ برای بله، ۰ برای خیر)</td>\n",
    "            <td>int64</td>\n",
    "        </tr>\n",
    "        <tr>\n",
    "            <td><b>Response</b></td>\n",
    "            <td>آیا مشتری پیشنهاد آخرین کمپین را پذیرفته است؟ (۱ برای بله، ۰ برای خیر)</td>\n",
    "            <td>int64</td>\n",
    "        </tr>\n",
    "        <!-- بخش Place -->\n",
    "        <tr>\n",
    "            <td><b>NumWebPurchases</b></td>\n",
    "            <td>تعداد خریدهای انجام‌شده از طریق وب‌سایت شرکت</td>\n",
    "            <td>int64</td>\n",
    "        </tr>\n",
    "        <tr>\n",
    "            <td><b>NumCatalogPurchases</b></td>\n",
    "            <td>تعداد خریدهای انجام‌شده از طریق کاتالوگ</td>\n",
    "            <td>int64</td>\n",
    "        </tr>\n",
    "        <tr>\n",
    "            <td><b>NumStorePurchases</b></td>\n",
    "            <td>تعداد خریدهای انجام‌شده مستقیماً از فروشگاه</td>\n",
    "            <td>int64</td>\n",
    "        </tr>\n",
    "        <tr>\n",
    "            <td><b>NumWebVisitsMonth</b></td>\n",
    "            <td>تعداد بازدیدهای وب‌سایت شرکت در ماه گذشته</td>\n",
    "            <td>int64</td>\n",
    "        </tr>\n",
    "    </table>\n",
    "</div>\n",
    "<br>"
   ]
  },
  {
   "cell_type": "markdown",
   "metadata": {
    "id": "R4Cu4TwOO_Me"
   },
   "source": [
    "<br>\n",
    "<br>\n",
    "<div dir=\"rtl\">\n",
    "<font size=\"6\">\n",
    "    <li>\n",
    "    <strong>ارزیابی و شناخت دیتاست</strong>\n",
    "    </li>\n",
    "</font>\n",
    "<font size=4>\n",
    "    در این قدم، شما باید دیتاست را بررسی کرده و ساختار آن را درک کنید. بررسی کنید که چه متغیرهایی در دیتاست وجود دارند، نوع داده‌ها چیست و آیا داده‌ها گمشده یا نادرست هستند یا خیر. این مرحله به شما کمک می‌کند که به‌طور کامل با داده‌ها آشنا شوید و مشکلات احتمالی را شناسایی کنید.\n",
    "</font>"
   ]
  },
  {
   "cell_type": "code",
   "execution_count": null,
   "metadata": {
    "id": "bZ1QvO2TN1mH"
   },
   "outputs": [],
   "source": [
    "# TODO: کتابخانه ها را ایمپورت کنید\n"
   ]
  },
  {
   "cell_type": "code",
   "execution_count": null,
   "metadata": {
    "id": "GavWUGGwM96u"
   },
   "outputs": [],
   "source": [
    "# TODO: دیتافریم را لود کنید\n"
   ]
  },
  {
   "cell_type": "code",
   "execution_count": null,
   "metadata": {
    "id": "V9wVi4FZOaH7"
   },
   "outputs": [],
   "source": [
    "# TODO : بررسی چند ردیف اول دیتافریم\n"
   ]
  },
  {
   "cell_type": "code",
   "execution_count": null,
   "metadata": {
    "id": "aUhl8XI709WX"
   },
   "outputs": [],
   "source": [
    "# TODO: info دیتافریم را بررسی کنید\n"
   ]
  },
  {
   "cell_type": "code",
   "execution_count": null,
   "metadata": {
    "id": "NKY9TFw7kKd4"
   },
   "outputs": [],
   "source": [
    "# TODO: بررسی داده های گم شده\n"
   ]
  },
  {
   "cell_type": "markdown",
   "metadata": {
    "id": "Tdlh6Ns_uldj"
   },
   "source": [
    "<div dir=\"rtl\" style=\"text-align: center;\">\n",
    "    <p>\n",
    "        <font size=4>\n",
    "            <li>\n",
    "                تعداد مقادیر یکتا (Unique) در هر ویژگی را بررسی کنید.\n",
    "            </li>\n",
    "        </font>\n",
    "    </p>\n",
    "</div>"
   ]
  },
  {
   "cell_type": "code",
   "execution_count": null,
   "metadata": {
    "id": "h8MU4L0xums6"
   },
   "outputs": [],
   "source": [
    "# TODO: بررسی تعداد داده های منحصر بفرد و یکتا در هر ویژگی\n"
   ]
  },
  {
   "cell_type": "markdown",
   "metadata": {
    "id": "1q3FgMyiuy34"
   },
   "source": [
    "<div dir=\"rtl\">\n",
    "    <p>\n",
    "        <font size=4>\n",
    "            <li>\n",
    "                جدول Describe را برای این دیتافریم بررسی کنید\n",
    "            </li>\n",
    "        </font>\n",
    "    </p>\n",
    "</div>"
   ]
  },
  {
   "cell_type": "code",
   "execution_count": null,
   "metadata": {
    "id": "xvdsbYt0umke"
   },
   "outputs": [],
   "source": [
    "# TODO: بررسی اطلاعات آمار و احتمالاتی دیتاست\n"
   ]
  },
  {
   "cell_type": "markdown",
   "metadata": {
    "id": "ZobwuGPGwi96"
   },
   "source": [
    "## ارزیابی:\n",
    "*ارزیابی خودتان از کد و خروجی حاصل از آن را بنویسید*\n",
    "1. ....\n",
    "2. ....\n",
    "3. ...."
   ]
  },
  {
   "cell_type": "code",
   "execution_count": null,
   "metadata": {
    "id": "QGv-pr9g1JdR"
   },
   "outputs": [],
   "source": []
  },
  {
   "cell_type": "markdown",
   "metadata": {
    "id": "48cMHhDDpO9A"
   },
   "source": [
    "<br>\n",
    "<div dir=\"rtl\">\n",
    "<font size=\"6\">\n",
    "    <li>\n",
    "    <strong>پیش پردازش و مهندسی ویژگی‌ها (Preprocessing & Feature Engineering)</strong>\n",
    "    </li>\n",
    "</font>\n",
    "    <font size=4>\n",
    "    پیش پردازش داده‌ها مرحله‌ای است که در آن داده‌ها برای استفاده در مدل‌های یادگیری ماشین آماده می‌شوند. این مرحله شامل پاک‌سازی داده‌ها، پر کردن یا حذف داده‌های گمشده، تبدیل داده‌های دسته‌ای به داده‌های عددی (مثل تبدیل کلمات به اعداد)، و استانداردسازی مقادیر مختلف است. هدف از پیش پردازش، بهبود کیفیت داده‌ها و کمک به مدل برای یادگیری بهتر است.\n",
    "    <br><br>\n",
    "    علاوه بر پیش پردازش، <strong>مهندسی ویژگی‌ها (Feature Engineering)</strong> نیز در این مرحله انجام می‌شود. این فرآیند شامل انتخاب ویژگی‌های تأثیرگذار، ایجاد ویژگی‌های جدید از داده‌های موجود، و تبدیل داده‌ها به شکلی است که بتوانند اطلاعات بیشتری برای مدل فراهم کنند. به عنوان مثال، ترکیب چند ویژگی برای ایجاد یک ویژگی جدید یا استخراج اطلاعات مفید از داده‌های متنی یا زمانی.\n",
    "    <br><br>\n",
    "    ترکیب پیش پردازش و مهندسی ویژگی‌ها باعث می‌شود داده‌ها نه‌تنها پاک و استاندارد شوند، بلکه بتوانند حداکثر اطلاعات ممکن را برای مدل فراهم کنند، که در نتیجه به بهبود عملکرد مدل کمک می‌کند.\n",
    "    </font>\n",
    "</div>\n",
    "<br><br>\n"
   ]
  },
  {
   "cell_type": "markdown",
   "metadata": {
    "id": "GCfgBEPS125K"
   },
   "source": [
    "<br>\n",
    "<br>\n",
    "<div dir=\"rtl\">\n",
    "    <font size=4>\n",
    "        <li>\n",
    "            داده های گم شده را بررسی و مدیریت کنید.\n",
    "        </li>\n",
    "    </font>\n",
    "</div>"
   ]
  },
  {
   "cell_type": "code",
   "execution_count": null,
   "metadata": {
    "id": "vWN_cYtpyo9f"
   },
   "outputs": [],
   "source": [
    "# TODO: حذف داده های گم شده\n"
   ]
  },
  {
   "cell_type": "markdown",
   "metadata": {
    "id": "MlPLKSpx2MhO"
   },
   "source": [
    "<div dir=\"rtl\">\n",
    "    <font size=\"4\">\n",
    "        <li>\n",
    "        می‌خواهیم از ستون <strong>\"Dt_Customer\"</strong> یک ویژگی جدید بسازیم که نشون بده هر مشتری چند روزه ثبت‌نام کرده. برای این کار، تعداد روزها رو نسبت به جدیدترین مشتری محاسبه می‌کنیم.\n",
    "        اول تاریخ ستون\n",
    "        <strong>Dt_Customer</strong> رو به فرمت تاریخ تبدیل کنید. بعد جدیدترین تاریخ رو پیدا کنید. سپس اختلاف روز بین تاریخ هر مشتری و جدیدترین تاریخ رو حساب کنید. این عدد نشون می‌ده هر مشتری چند روزه عضوه.\n",
    "        </li>\n",
    "    </font>\n",
    "</div>"
   ]
  },
  {
   "cell_type": "code",
   "execution_count": null,
   "metadata": {
    "id": "IfmOzxHGyo6s"
   },
   "outputs": [],
   "source": [
    "# TODO: تبدیل به دیتاتایپ زمان و استخراج ویژگی\n"
   ]
  },
  {
   "cell_type": "markdown",
   "metadata": {
    "id": "YMlbfieXd19j"
   },
   "source": [
    "<div dir=\"rtl\">\n",
    "    <font size=\"4\">\n",
    "        <li>\n",
    "            یک ویژگی جدید به نام Customer_for  ایجاد کنید.\n",
    "         ویژگی <strong>Customer_For</strong> نشان‌دهنده مدت‌زمانی است که هر مشتری از فروشگاه خرید می‌کند، بر اساس اختلاف تاریخ عضویت او با جدیدترین تاریخ ثبت‌شده در داده‌ها. </li> <li> برای این کار، ابتدا تاریخ عضویت مشتریان را به فرمت <strong>تاریخی</strong> تبدیل کنید. سپس جدیدترین تاریخ موجود در داده‌ها را مشخص کرده و اختلاف این دو تاریخ را برحسب روز محاسبه کنید.\n",
    "        </li>\n",
    "</font>\n",
    "</div>"
   ]
  },
  {
   "cell_type": "code",
   "execution_count": null,
   "metadata": {
    "id": "0qHtWg7c2ssf"
   },
   "outputs": [],
   "source": [
    "# TODO: ایجاد ویژگی Customer_For\n",
    "\n"
   ]
  },
  {
   "cell_type": "markdown",
   "metadata": {
    "id": "uXgjr7tV3hAE"
   },
   "source": [
    "<br>\n",
    "<br>\n",
    "<div dir=\"rtl\">\n",
    "    <font size=4>\n",
    "        <li>\n",
    "            سن (Age) هر مشتری را محاسبه کنید.\n",
    "        </li>\n",
    "    </font>\n",
    "</div>"
   ]
  },
  {
   "cell_type": "code",
   "execution_count": null,
   "metadata": {
    "id": "OZFGFrzZzoIR"
   },
   "outputs": [],
   "source": [
    "# TODO: محاسبه سن\n"
   ]
  },
  {
   "cell_type": "markdown",
   "metadata": {
    "id": "5C9gxM7A5GGt"
   },
   "source": [
    "<br><br>\n",
    "<div dir=\"rtl\">\n",
    "    <font size=4>\n",
    "        <li>\n",
    "        ویژگی Living_With دارای کلاس های متعدد و حتی تکراری است (از نظر معنی و مفهوم). راه حلی برای کاهش نویز و کلاس ها پیدا کنید.\n",
    "        </li>\n",
    "    </font>\n",
    "</div>\n",
    "<br>"
   ]
  },
  {
   "cell_type": "code",
   "execution_count": null,
   "metadata": {
    "id": "fXDeyGfe5rQU"
   },
   "outputs": [],
   "source": [
    "# TODO: Living_With مدیریت کلاس های ویژگی\n",
    "\n"
   ]
  },
  {
   "cell_type": "markdown",
   "metadata": {
    "id": "lg5G_j1kihWz"
   },
   "source": [
    "<br><br>\n",
    "<div dir=\"rtl\">\n",
    "    <font size=4>\n",
    "        <li>\n",
    "        ویژگی Education دارای کلاس های متعدد و حتی تکراری است (از نظر معنی و مفهوم). راه حلی برای کاهش نویز و کلاس ها پیدا کنید.\n",
    "        </li>\n",
    "    </font>\n",
    "</div>\n",
    "<br>"
   ]
  },
  {
   "cell_type": "code",
   "execution_count": null,
   "metadata": {
    "id": "I1aMxqkozyVC"
   },
   "outputs": [],
   "source": [
    "# TODO: Education مدیریت کلاس های ویژگی\n",
    "\n"
   ]
  },
  {
   "cell_type": "markdown",
   "metadata": {
    "id": "MCiBRhnhjEK2"
   },
   "source": [
    "<br><br>\n",
    "<div dir=\"rtl\">\n",
    "    <font size=\"4\">\n",
    "        <li>\n",
    "            در این مرحله، قصد داریم ویژگی جدیدی به نام\n",
    "            <strong>\"Spent\"</strong>\n",
    "            ایجاد کنیم. این ویژگی نشان‌دهنده‌ی مجموع مبلغی است که هر مشتری در دسته‌بندی‌های مختلف محصولات طی دو سال هزینه کرده است.  \n",
    "            برای محاسبه این مقدار، باید مجموع خریدهای مشتری در تمامی دسته‌ها را جمع بزنید. این ویژگی می‌تواند در تحلیل الگوهای خرید مشتریان بسیار مفید باشد.  \n",
    "        </li>\n",
    "    </font>\n",
    "</div>\n",
    "<br>"
   ]
  },
  {
   "cell_type": "code",
   "execution_count": null,
   "metadata": {
    "id": "0RxzNDDc59Pn"
   },
   "outputs": [],
   "source": [
    "# TODO: Spent ایجاد ویژگی جدید به نام\n",
    "\n"
   ]
  },
  {
   "cell_type": "markdown",
   "metadata": {
    "id": "kvoIIvaWlvhM"
   },
   "source": [
    "<br><br>\n",
    "<div dir=\"rtl\">\n",
    "    <font size=\"4\">\n",
    "        <li>\n",
    "            در این دیتاست امکان ایجاد/استخراج ویژگی های بیشتری وجود دارد. سعی کنید حداقل 2 ویژگی بیشتر که به ما اطلاعات مناسبی می دهد و به خوشه بندی کمک می کند استخراج کنید.\n",
    "        </li>\n",
    "    </font>\n",
    "</div>\n",
    "<br>"
   ]
  },
  {
   "cell_type": "markdown",
   "metadata": {
    "id": "UJnme4AxnwKa"
   },
   "source": [
    "\n",
    "<br><br>\n",
    "<div dir=\"rtl\">\n",
    "    <font size=\"4\">\n",
    "        <li>\n",
    "            Children: این ویژگی نشان‌دهنده‌ی مجموع تعداد کودکان (کودکان خردسال و نوجوانان) در خانواده‌ی هر مشتری است.\n",
    "        </li>\n",
    "    </font>\n",
    "</div>\n",
    "<br>"
   ]
  },
  {
   "cell_type": "code",
   "execution_count": null,
   "metadata": {
    "id": "4tMshLsp69y3"
   },
   "outputs": [],
   "source": [
    "# TODO: ویژگی 1\n",
    "\n"
   ]
  },
  {
   "cell_type": "markdown",
   "metadata": {
    "id": "88gLezZHn2Di"
   },
   "source": [
    "<br><br>\n",
    "<div dir=\"rtl\">\n",
    "    <font size=\"4\">\n",
    "        <li>\n",
    "            Family_Size: این ویژگی تعداد کل اعضای خانواده را نشان می‌دهد که شامل تعداد کودکان و تعداد بزرگسالان (مشتری و همسر یا شریک زندگی در صورت وجود) است.\n",
    "        </li>\n",
    "    </font>\n",
    "</div>\n",
    "<br>"
   ]
  },
  {
   "cell_type": "code",
   "execution_count": null,
   "metadata": {
    "id": "frEX14hchry8"
   },
   "outputs": [],
   "source": [
    "# TODO: ویژگی 2\n",
    "\n"
   ]
  },
  {
   "cell_type": "markdown",
   "metadata": {
    "id": "GCvAOMtWok3T"
   },
   "source": [
    "<br><br>\n",
    "<div dir=\"rtl\">\n",
    "    <font size=\"4\">\n",
    "        <li>\n",
    "            Is_Parent: این ویژگی مشخص می‌کند که آیا مشتری دارای فرزند است یا خیر؛ مقدار ۱ نشان‌دهنده‌ی والد بودن مشتری و مقدار ۰ نشان‌دهنده‌ی نداشتن فرزند است.\n",
    "        </li>\n",
    "    </font>\n",
    "</div>\n",
    "<br>"
   ]
  },
  {
   "cell_type": "code",
   "execution_count": null,
   "metadata": {
    "id": "5LQIdJUblNpQ"
   },
   "outputs": [],
   "source": [
    "# TODO: ویژگی 3\n",
    "\n"
   ]
  },
  {
   "cell_type": "markdown",
   "metadata": {
    "id": "buD9Dr2qpEdk"
   },
   "source": [
    "<br><br>\n",
    "<div dir=\"rtl\">\n",
    "    <font size=\"4\">\n",
    "        <li>\n",
    "                نام ستون ها را به نام های با معنی تری تغییر می دهیم.\n",
    "        </li>\n",
    "    </font>\n",
    "</div>\n",
    "<br>"
   ]
  },
  {
   "cell_type": "code",
   "execution_count": null,
   "metadata": {
    "id": "Ct5-z60KlNmO"
   },
   "outputs": [],
   "source": [
    "# اصلاح نام ستون ها\n",
    "df = df.rename(columns={\"MntWines\": \"Wines\",\n",
    "                          \"MntFruits\":\"Fruits\",\n",
    "                          \"MntMeatProducts\":\"Meat\",\n",
    "                          \"MntFishProducts\":\"Fish\",\n",
    "                          \"MntSweetProducts\":\"Sweets\",\n",
    "                          \"MntGoldProds\":\"Gold\"})\n"
   ]
  },
  {
   "cell_type": "markdown",
   "metadata": {
    "id": "0z65y39wplN5"
   },
   "source": [
    "<br><br>\n",
    "<div dir=\"rtl\">\n",
    "    <font size=\"4\">\n",
    "        <li>\n",
    "                در ادامه نسبت به ویژگی هایی که ایجاد کردید , ویژگی ها تکراری (ستون هایی که ویژگی های جدید از آنها استخراج کردید) را حذف کنید.\n",
    "        </li>\n",
    "    </font>\n",
    "</div>\n",
    "<br>"
   ]
  },
  {
   "cell_type": "code",
   "execution_count": null,
   "metadata": {
    "id": "I_gLL2MFlNfx"
   },
   "outputs": [],
   "source": [
    "# TODO: حذف ویژگی\n",
    "\n"
   ]
  },
  {
   "cell_type": "code",
   "execution_count": null,
   "metadata": {
    "id": "k4W8GbR4lNc9"
   },
   "outputs": [],
   "source": []
  },
  {
   "cell_type": "markdown",
   "metadata": {
    "id": "hcAs2mNmtncb"
   },
   "source": [
    "<br><br>\n",
    "<div dir=\"rtl\">\n",
    "    <font size=\"4\">\n",
    "        <li>\n",
    "                داده های پرت (Outlier) هارا به روش IQR حذف کنید\n",
    "        </li>\n",
    "        <li>\n",
    "            <font color=\"red\">نکته مهم:</font> استفاده از مقادیر پیشفرض Q1 و Q3 داده پیشنهاد نمی شود. این دیتاست داده های کمی دارد و حذف تعداد زیادی از داده ها توصیه نمی شود. شما می توانید از مقادیر کمتری/بیشتری برای Q1 و Q3 استفاده کنید. مثلا مقدار 0.20 به جای 0.25 برای Q1 و مقدار 0.80 برای Q3.(مقادیر را خودتان انتخاب کنید)\n",
    "        </li>\n",
    "    </font>\n",
    "</div>\n",
    "<br>"
   ]
  },
  {
   "cell_type": "code",
   "execution_count": null,
   "metadata": {
    "id": "IuLC4kH4raz_"
   },
   "outputs": [],
   "source": [
    "# TODO: حذف داده های پرت\n",
    "def remove_outliers_iqr(df):\n",
    "    pass"
   ]
  },
  {
   "cell_type": "code",
   "execution_count": null,
   "metadata": {
    "id": "30qVZB3lTR0l"
   },
   "outputs": [],
   "source": []
  },
  {
   "cell_type": "markdown",
   "metadata": {
    "id": "GLk-BJKHrZjW"
   },
   "source": [
    "<br>\n",
    "<br>\n",
    "<div dir=\"rtl\">\n",
    "<font size=\"6\">\n",
    "    <li>\n",
    "    <strong>مصورسازی</strong>\n",
    "    </li>\n",
    "</font>\n",
    "<font size=4>\n",
    "    در این قدم، شما باید با استفاده از ابزارهای مصورسازی مانند نمودارهای پراکندگی (Scatter plots)، هیستوگرام‌ها و نمودارهای جعبه‌ای (Box plots)، روابط بین ویژگی‌ها و هدف را بررسی کنید. این مرحله به شما کمک می‌کند که روابط پنهان میان متغیرها را شناسایی کنید و درک بهتری از داده‌ها پیدا کنید. شما میتوانید هرگونه مصورسازی که فکر می کنید در این مرحله اطلاعاتی به شما میدهد را انجام دهید.\n",
    "    ولی پیاده سازی پلات های خواسته شده الزامی می باشد.\n",
    "</font>\n",
    "<br>\n",
    "<br>"
   ]
  },
  {
   "cell_type": "markdown",
   "metadata": {
    "id": "tzCP9lMR23cH"
   },
   "source": [
    "<br><br>\n",
    "<div dir=\"rtl\">\n",
    "    <font size=\"4\">\n",
    "        <li>\n",
    "                توزیع داده ها را به کمک Histogram ارزیابی کنید.\n",
    "        </li>\n",
    "    </font>\n",
    "</div>\n",
    "<br>"
   ]
  },
  {
   "cell_type": "code",
   "execution_count": null,
   "metadata": {
    "id": "7eUbKXBS3bNu"
   },
   "outputs": [],
   "source": [
    "# TODO: Histogram رسم\n",
    "def plot_numeric_histograms(df):\n",
    "    pass"
   ]
  },
  {
   "cell_type": "markdown",
   "metadata": {
    "id": "avUNqzChosJ2"
   },
   "source": [
    "## ارزیابی:\n",
    "*ارزیابی خودتان از کد و خروجی حاصل از آن را بنویسید*\n",
    "1. ....\n",
    "2. ....\n",
    "3. ...."
   ]
  },
  {
   "cell_type": "markdown",
   "metadata": {
    "id": "z7bWArU83g7O"
   },
   "source": [
    "<br><br>\n",
    "<div dir=\"rtl\">\n",
    "    <font size=\"4\">\n",
    "        <li>\n",
    "                همبستگی داده ها را به کمک Heatmap ارزیابی کنید.\n",
    "        </li>\n",
    "    </font>\n",
    "</div>\n",
    "<br>"
   ]
  },
  {
   "cell_type": "code",
   "execution_count": null,
   "metadata": {
    "id": "fYUJ_sOeraxR"
   },
   "outputs": [],
   "source": [
    "# TODO: نمودار همبستگی را رسم کنید\n",
    "\n"
   ]
  },
  {
   "cell_type": "markdown",
   "metadata": {
    "id": "U6sbBv0R4V9k"
   },
   "source": [
    "<br><br>\n",
    "<div dir=\"rtl\">\n",
    "    <font size=\"4\">\n",
    "        <li>\n",
    "                ویژگی های دسته ایی را Encode کنید.\n",
    "        </li>\n",
    "    </font>\n",
    "</div>\n",
    "<br>"
   ]
  },
  {
   "cell_type": "code",
   "execution_count": null,
   "metadata": {
    "id": "hguEa2aj42tE"
   },
   "outputs": [],
   "source": [
    "# TODO: کتابخانه های مورد نیاز را لود کنید.\n"
   ]
  },
  {
   "cell_type": "code",
   "execution_count": null,
   "metadata": {
    "id": "9CGYbQKKraOH"
   },
   "outputs": [],
   "source": [
    "# TODO: Encoding داده های دسته ایی"
   ]
  },
  {
   "cell_type": "markdown",
   "metadata": {
    "id": "V3LbdeEx5uD6"
   },
   "source": [
    "<br><br>\n",
    "<div dir=\"rtl\">\n",
    "    <font size=\"4\">\n",
    "        <li>\n",
    "                برای خوشه بندی به همه ویژگی ها نیاز نداریم, بنابراین ویژگی هایی نامناسب را پیدا و حذف کنید.\n",
    "        </li>\n",
    "    </font>\n",
    "</div>\n",
    "<br>"
   ]
  },
  {
   "cell_type": "code",
   "execution_count": null,
   "metadata": {
    "id": "NuhOW4vf51mv"
   },
   "outputs": [],
   "source": [
    "# TODO: حذف ویژگی های\n",
    "\n"
   ]
  },
  {
   "cell_type": "markdown",
   "metadata": {
    "id": "aRfINhWeoMtj"
   },
   "source": [
    "<br><br>\n",
    "<div dir=\"rtl\">\n",
    "<font size=\"6\">\n",
    "    <li>\n",
    "    <strong>آموزش مدل</strong>\n",
    "    </li>\n",
    "</font>\n",
    "</div>\n",
    "<br><br>"
   ]
  },
  {
   "cell_type": "code",
   "execution_count": null,
   "metadata": {
    "id": "Pk1qTT-bfgOW"
   },
   "outputs": [],
   "source": [
    "# TODO: اکر نیاز به نصب کتابخانه ایی دارید آن هارا نصب کنید\n"
   ]
  },
  {
   "cell_type": "code",
   "execution_count": null,
   "metadata": {
    "id": "2Bbuat02mCxM"
   },
   "outputs": [],
   "source": [
    "# TODO: کتابخانه های مورد نیاز را ایمپورت کنید\n",
    "\n"
   ]
  },
  {
   "cell_type": "markdown",
   "metadata": {
    "id": "frhaxpLi6XrV"
   },
   "source": [
    "<br><br>\n",
    "<div dir=\"rtl\">\n",
    "    <font size=\"4\">\n",
    "        <li>مقیاس بندی ویژگی (Scaling) را انجام دهید.</li>\n",
    "    </font>\n",
    "</div>\n",
    "<br>"
   ]
  },
  {
   "cell_type": "code",
   "execution_count": null,
   "metadata": {
    "id": "AF3eeZvO6KIO"
   },
   "outputs": [],
   "source": [
    "# TODO: مقیاس بندی ویژگی ها\n",
    "\n"
   ]
  },
  {
   "cell_type": "markdown",
   "metadata": {
    "id": "VClf6yFf9AR2"
   },
   "source": [
    "<br><br>\n",
    "<div dir=\"rtl\">\n",
    "    <font size=\"4\">\n",
    "        <li>به کمک متد های کاهش ابعاد (Dimensionality Reduction) ابعاد را کاهش دهید(کاهش به سه بعد)</li>\n",
    "        <li> بعد از کاهش ابعاد , نمودار 3 بعدی (3D) داده ها را  به کمک Scatter plot رسم کنید.</li>\n",
    "    </font>\n",
    "</div>\n",
    "<br>"
   ]
  },
  {
   "cell_type": "code",
   "execution_count": null,
   "metadata": {
    "id": "yJcEaVYs8gHP"
   },
   "outputs": [],
   "source": [
    "# TODO: ابعاد را کاهش دهید.\n",
    "\n"
   ]
  },
  {
   "cell_type": "code",
   "execution_count": null,
   "metadata": {
    "id": "Nfflw5kmcZ6o"
   },
   "outputs": [],
   "source": [
    "#TODO : نمودار سه بعدی را رسم کنید\n",
    "\n"
   ]
  },
  {
   "cell_type": "markdown",
   "metadata": {
    "id": "dC4jZFRV8UZ_"
   },
   "source": [
    "<br><br>\n",
    "<div dir=\"rtl\">\n",
    "    <font size=\"4\">\n",
    "        <li>متد ها خوشه بندی زیر راپیاده سازی کنید</li>\n",
    "    <br>\n",
    "    1. K-Means\n",
    "    <br>\n",
    "    2. Agglomerative\n",
    "    <br>\n",
    "    3. GMM\n",
    "    <br>\n",
    "        برای متد های بالا , روش مناسب هر متد را برای مشخص کردن تعداد کلاستر ها پیاده سازی کنید.\n",
    "        همچنین نمودار سه بعدی هر یک را رسم کنید.\n",
    "    </font>\n",
    "</div>\n",
    "<br>"
   ]
  },
  {
   "cell_type": "markdown",
   "metadata": {
    "id": "ZkYJvqLS9iu4"
   },
   "source": [
    "<br><br>\n",
    "<div dir=\"rtl\">\n",
    "    <font size=\"5\">\n",
    "        <li>پیاده سازی <strong>KMeans</strong>\n",
    "    </font>\n",
    "</div>\n",
    "<br>"
   ]
  },
  {
   "cell_type": "code",
   "execution_count": null,
   "metadata": {
    "id": "VY8bCLwjDgW1"
   },
   "outputs": [],
   "source": [
    "# TODO: KMeans  پیدا کردن تعداد کلاستر های مناسب\n",
    "\n"
   ]
  },
  {
   "cell_type": "code",
   "execution_count": null,
   "metadata": {
    "id": "9m8iw_E7h5hN"
   },
   "outputs": [],
   "source": [
    "# TODO :  KMeans پیاده سازی\n",
    "\n"
   ]
  },
  {
   "cell_type": "code",
   "execution_count": null,
   "metadata": {
    "id": "NZWY2oxY9-yP"
   },
   "outputs": [],
   "source": []
  },
  {
   "cell_type": "markdown",
   "metadata": {
    "id": "Kb90woNs-HpH"
   },
   "source": [
    "<br><br>\n",
    "<div dir=\"rtl\">\n",
    "    <font size=\"4\">\n",
    "        <li>نمودار سه بعدی (3D) را بر اساس کلاستر انجام شده با روش KMeans را رسم کنید</li>\n",
    "    </font>\n",
    "</div>\n",
    "<br>"
   ]
  },
  {
   "cell_type": "code",
   "execution_count": null,
   "metadata": {
    "id": "txGg7hNRn2N1"
   },
   "outputs": [],
   "source": [
    "# TODO: KMeans نمودار سه بعدی برای\n",
    "\n"
   ]
  },
  {
   "cell_type": "markdown",
   "metadata": {
    "id": "EHgDbx8cD-N6"
   },
   "source": [
    "<br><br>\n",
    "<div dir=\"rtl\">\n",
    "    <font size=\"5\">\n",
    "        <li>پیاده سازی <strong>Agglomerative</strong><br>\n",
    "    </font>\n",
    "</div>\n",
    "<br>"
   ]
  },
  {
   "cell_type": "code",
   "execution_count": null,
   "metadata": {
    "id": "tDBKnuog-i7Y"
   },
   "outputs": [],
   "source": [
    "# TODO: Agglomerative پیدا کردن تعداد کلاستر های مناسب\n",
    "\n"
   ]
  },
  {
   "cell_type": "code",
   "execution_count": null,
   "metadata": {
    "id": "dKiQkjsMEI8L"
   },
   "outputs": [],
   "source": [
    "# TODO: Agglomerative پیاده سازی\n"
   ]
  },
  {
   "cell_type": "code",
   "execution_count": null,
   "metadata": {
    "id": "BEOGDHGKlDsE"
   },
   "outputs": [],
   "source": []
  },
  {
   "cell_type": "markdown",
   "metadata": {
    "id": "qPPRIPlJFCO5"
   },
   "source": [
    "<br><br>\n",
    "<div dir=\"rtl\">\n",
    "    <font size=\"4\">\n",
    "        <li>نمودار سه بعدی (3D) را بر اساس کلاستر انجام شده با روش Agglomerative را رسم کنید</li>\n",
    "    </font>\n",
    "</div>\n",
    "<br>"
   ]
  },
  {
   "cell_type": "code",
   "execution_count": null,
   "metadata": {
    "id": "GzXtvjIfEr4T"
   },
   "outputs": [],
   "source": [
    "# TODO: Agglomerative نمودار سه بعدی برای\n",
    "\n"
   ]
  },
  {
   "cell_type": "code",
   "execution_count": null,
   "metadata": {
    "id": "9qThjLKXFmcW"
   },
   "outputs": [],
   "source": []
  },
  {
   "cell_type": "markdown",
   "metadata": {
    "id": "2GY58HtxagXF"
   },
   "source": [
    "<br><br>\n",
    "<div dir=\"rtl\">\n",
    "    <font size=\"5\">\n",
    "        <li>پیاده سازی <strong>GMM</strong><br>\n",
    "    </font>\n",
    "    <br>\n",
    "    <font color=\"red\" size=4>راهنمایی</font>: <font size=4>برای یپدا کردن تعداد کلاستر های بهینه برای الگوریتم GMM به لینک زیر مراجعه کنید. </font>\n",
    "</div>\n",
    "<br>\n",
    "\n",
    "[GMM For Clustering](https://towardsdatascience.com/gaussian-mixture-models-for-clustering-3f62d0da675/)"
   ]
  },
  {
   "cell_type": "code",
   "execution_count": null,
   "metadata": {
    "id": "FpXhfUlnS7AI"
   },
   "outputs": [],
   "source": [
    "# TODO: GMM پیدا کردن تعداد کلاستر های مناسب\n",
    "\n"
   ]
  },
  {
   "cell_type": "code",
   "execution_count": null,
   "metadata": {
    "id": "PYa3W6x1S69U"
   },
   "outputs": [],
   "source": [
    "#TODO: GMM پیاده سازی\n",
    "\n"
   ]
  },
  {
   "cell_type": "code",
   "execution_count": null,
   "metadata": {
    "id": "woSAlp7llKyi"
   },
   "outputs": [],
   "source": []
  },
  {
   "cell_type": "code",
   "execution_count": null,
   "metadata": {
    "id": "jKLKflYMS66v"
   },
   "outputs": [],
   "source": [
    "# TODO: GMM نمودار سه بعدی برای\n",
    "\n"
   ]
  },
  {
   "cell_type": "markdown",
   "metadata": {
    "id": "NMYzj2fweAjA"
   },
   "source": [
    "<br><br>\n",
    "<div dir=\"rtl\">\n",
    "    <font size=\"4\">\n",
    "        <li>کیفیت خوشه بندی های انجام شده برای هر سه الگوریتم پیاده سازی شده را به کمک <strong>Silhouette Score</strong> ارزیابی کنید.<br>\n",
    "    </font>\n",
    "</div>\n",
    "<br>"
   ]
  },
  {
   "cell_type": "code",
   "execution_count": null,
   "metadata": {
    "id": "BjQPGYxEFmaI"
   },
   "outputs": [],
   "source": [
    "# ارزیابی KMeans\n",
    "\n",
    "\n",
    "# ارزیابی Agglomerative\n",
    "\n",
    "\n",
    "# ارزیابی GMM\n",
    "\n"
   ]
  },
  {
   "cell_type": "markdown",
   "metadata": {
    "id": "X2WHLdeclbVm"
   },
   "source": [
    "<br><br>\n",
    "<div dir=\"rtl\">\n",
    "    <font size=\"4\">\n",
    "        <li>در ادامه خوشه بندی انجام شده را بررسی کنید.(برای یکی از الگوریتم ها)</li>\n",
    "        <br>\n",
    "        1. نمودار Barplot را برای بررسی توزیع داده ها در هر کلاستر را رسم کنید.\n",
    "        <br>\n",
    "        2. Scatterplot را نیز بررسی کنید. به این شکل که در محور X , ویژگی Spent و محور y ویژگی Income را قرار دهید و کلاستر ها را نسبت به این دو ویژگی بررسی کنید و سعی کنید و هر کلاستر را نام گذاری کنید. (Labeling)\n",
    "        <br>\n",
    "        مثال :  در نمودار Scatterplot، خوشه 0 را می‌توان مشتریان کم‌خرید و خوشه 3 را مشتریان VIP نام‌گذاری کرد.\n",
    "        <br>\n",
    "        <font color=\"red\" size=4>راهنمایی</font>: <font size=4> برای درک بهتر کلاستر ها, از Groupby استفاده کنید و میانگین ویژگی Income و Spent را محاسبه کنید.</font>\n",
    "    </font>\n",
    "</div>\n",
    "<br><br>"
   ]
  },
  {
   "cell_type": "code",
   "execution_count": null,
   "metadata": {
    "id": "0KzbQ_OMf3uS"
   },
   "outputs": [],
   "source": [
    "# TODO: توزیع خوشه ها با Scatterplot\n",
    "\n"
   ]
  },
  {
   "cell_type": "code",
   "execution_count": null,
   "metadata": {
    "id": "3tkbVepjgzxB"
   },
   "outputs": [],
   "source": [
    "# TODO: بارپلات را رسم کنید.\n",
    "\n"
   ]
  },
  {
   "cell_type": "code",
   "execution_count": null,
   "metadata": {
    "id": "UIeA-eu5sJCI"
   },
   "outputs": [],
   "source": []
  },
  {
   "cell_type": "markdown",
   "metadata": {
    "id": "Gaor2HJ9qBai"
   },
   "source": [
    "## ارزیابی و نام گذاری کلاستر ها (Labeling):\n",
    "*ارزیابی خودتان از کد و خروجی حاصل از آن را بنویسید*\n",
    "1. ....\n",
    "2. ....\n",
    "3. ...."
   ]
  },
  {
   "cell_type": "code",
   "execution_count": null,
   "metadata": {
    "id": "s1SBTcH1hC2N"
   },
   "outputs": [],
   "source": []
  }
 ],
 "metadata": {
  "colab": {
   "provenance": []
  },
  "kernelspec": {
   "display_name": "Python 3",
   "name": "python3"
  },
  "language_info": {
   "name": "python",
   "version": "3.12.2"
  }
 },
 "nbformat": 4,
 "nbformat_minor": 0
}
